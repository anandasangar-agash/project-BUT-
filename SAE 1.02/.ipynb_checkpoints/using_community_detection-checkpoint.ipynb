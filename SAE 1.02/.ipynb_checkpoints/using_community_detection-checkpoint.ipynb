{
 "cells": [
  {
   "cell_type": "markdown",
   "id": "fe16a61a",
   "metadata": {},
   "source": [
    "# Comparaison"
   ]
  },
  {
   "cell_type": "code",
   "execution_count": 254,
   "id": "02337932",
   "metadata": {},
   "outputs": [],
   "source": [
    "from community_detection import *\n",
    "from time import time"
   ]
  },
  {
   "cell_type": "markdown",
   "id": "d61b58f8",
   "metadata": {},
   "source": [
    "   <h3> Question 2 : </h3> "
   ]
  },
  {
   "cell_type": "raw",
   "id": "164b35c4",
   "metadata": {},
   "source": [
    "\n",
    "La complexité de la fonction \"create_network\" est linéaire car dans cette fonction on parcourt juste un tableau.\n",
    "\n",
    "La complexité de la fonction \"dico_reseau\" est quadratique car dans la boucle on appelle une fonction, ce qui nous \n",
    "donne une boucle imbriquée.\n",
    "\n",
    "Donc la fonction la plus efficace est \"create_network\".\n"
   ]
  },
  {
   "cell_type": "code",
   "execution_count": 255,
   "id": "0bd7f75e",
   "metadata": {},
   "outputs": [
    {
     "name": "stdout",
     "output_type": "stream",
     "text": [
      "0.45 secondes\n",
      "1.207 secondes\n"
     ]
    }
   ],
   "source": [
    "tps = 0.\n",
    "amis = list_of_friends('files/Communaute1.csv')\n",
    "debut = time()\n",
    "create_network(amis)\n",
    "tps = time() - debut\n",
    "print(round(1000 * tps, 3), 'secondes')\n",
    "tps = 0\n",
    "debut = time()\n",
    "dico_reseau(amis)\n",
    "tps = time() - debut\n",
    "print(round(1000 * tps, 3), 'secondes')"
   ]
  },
  {
   "cell_type": "markdown",
   "id": "c63aee0c",
   "metadata": {},
   "source": [
    "   <h3> Question 11 : </h3> "
   ]
  },
  {
   "cell_type": "raw",
   "id": "282179ff",
   "metadata": {},
   "source": [
    "\n",
    "La complexité de la fonction \"find_community_by_decreasing_popularity\" est quadratique car dans la boucle on appelle une fonction, ce qui nous donne une boucle imbriquée et une complexité quadratique. \n",
    "\n",
    "La complexité de la fonction \"find_community_from_person\" est car dans les fonctions qu'on a appelé, il y en a elles sont quadratique. \n",
    "\n",
    "Donc la fonction la plus efficace est \"find_community_by_decreasing_popularity\" car dans \"find_community_from_person\", on appelle plus de fonction que dans l'autre.\n"
   ]
  },
  {
   "cell_type": "code",
   "execution_count": 316,
   "id": "34415739",
   "metadata": {},
   "outputs": [
    {
     "name": "stdout",
     "output_type": "stream",
     "text": [
      "0.386 secondes\n",
      "0.327 secondes\n"
     ]
    }
   ],
   "source": [
    "tps = 0.\n",
    "amis = list_of_friends('files/Communaute1.csv')\n",
    "dico = create_network(amis)\n",
    "debut = time()\n",
    "find_community_by_decreasing_popularity(dico)\n",
    "tps = time() - debut\n",
    "print(round(1000 * tps, 3), 'secondes')\n",
    "tps = 0.\n",
    "debut = time()\n",
    "tab = les_plus_pop(dico)\n",
    "find_community_from_person(dico, tab[0])\n",
    "tps = time() - debut\n",
    "print(round(1000 * tps, 3), 'secondes')"
   ]
  }
 ],
 "metadata": {
  "kernelspec": {
   "display_name": "Python 3 (ipykernel)",
   "language": "python",
   "name": "python3"
  },
  "language_info": {
   "codemirror_mode": {
    "name": "ipython",
    "version": 3
   },
   "file_extension": ".py",
   "mimetype": "text/x-python",
   "name": "python",
   "nbconvert_exporter": "python",
   "pygments_lexer": "ipython3",
   "version": "3.9.13"
  }
 },
 "nbformat": 4,
 "nbformat_minor": 5
}
