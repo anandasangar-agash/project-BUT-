{
 "cells": [
  {
   "cell_type": "code",
   "execution_count": 171,
   "id": "13e7ffcd",
   "metadata": {},
   "outputs": [
    {
     "data": {
      "text/plain": [
       "['Alice', 'Bob', 'Bob', 'Charlie', 'Alice', 'Dominique', 'Bob', 'Dominique']"
      ]
     },
     "execution_count": 171,
     "metadata": {},
     "output_type": "execute_result"
    }
   ],
   "source": [
    "def list_of_friends(path):\n",
    "    \n",
    "    f = open(path, \"r\")\n",
    "    l = f.readlines()\n",
    "    f.close()\n",
    "    amis = []\n",
    "    i = 0\n",
    "    while i < len(l):\n",
    "        fr = l[i].split(\";\")\n",
    "        amis.append(fr[0].strip())\n",
    "        amis.append(fr[1].strip())\n",
    "        i += 1\n",
    "    return amis\n",
    "list_of_friends('files/Communaute0.csv')"
   ]
  },
  {
   "cell_type": "code",
   "execution_count": 174,
   "id": "75e399cd",
   "metadata": {},
   "outputs": [
    {
     "data": {
      "text/plain": [
       "{'Alice': ['Bob', 'Dominique'],\n",
       " 'Bob': ['Charlie', 'Dominique', 'Alice'],\n",
       " 'Dominique': ['Bob', 'Alice'],\n",
       " 'Charlie': ['Bob']}"
      ]
     },
     "execution_count": 174,
     "metadata": {},
     "output_type": "execute_result"
    }
   ],
   "source": [
    "def dico_reseau(tab):\n",
    "    \"\"\" \n",
    "    Cette fonction dico_reseau prenant en paramètre un tableau tab, va créer un dictionnaire dico, se\n",
    "    dictionnaire contient pour les clés, tout les noms des personnes du réseau, et les valeurs seront un tableau \n",
    "    qui contiendront tout les amis de la personne en clé. \n",
    "    \n",
    "    \"\"\"\n",
    "    \n",
    "    dico= {} # On crée un dictionnaire vide\n",
    "    i = 0\n",
    "    while i < len(tab):\n",
    "        if tab[i] not in list(dico): # Si tab[i] n'est pas dans la liste des clés du dico\n",
    "            dico[tab[i]] = [tab[i+1]] # on ajoute tab[i] en clé et tab[i+1] en valeur\n",
    "        else:                         # Sinon \n",
    "            dico[tab[i]].append(tab[i+1]) # on ajoute juste tab[i+1] dans le tableau des valeur de tab[i]\n",
    "        i += 2 # on passe à l'interaction suivante\n",
    "    \n",
    "    i = len(tab)-1 # On va parcourir le tableau dans l'autre sens\n",
    "    while i >= 0:\n",
    "        if tab[i] not in list(dico): # Si tab[i] n'est pas dans la liste des clés du dico\n",
    "            dico[tab[i]] = [tab[i-1]] # on ajoute tab[i] en clé et tab[i-1] en valeur\n",
    "        else:                         # Sinon \n",
    "            dico[tab[i]].append(tab[i-1])# on ajoute juste tab[i-1] dans le tableau des valeur de tab[i] \n",
    "    \n",
    "        i = i-2 # on passe à l'interaction précédente\n",
    "\n",
    "    return dico # On retourne dico\n",
    "\n",
    "amis = list_of_friends('files/Communaute0.csv')\n",
    "dico_reseau(amis)"
   ]
  },
  {
   "cell_type": "code",
   "execution_count": 177,
   "id": "ba152e54",
   "metadata": {},
   "outputs": [
    {
     "data": {
      "text/plain": [
       "{'Alice': ['Bob', 'Dominique'],\n",
       " 'Bob': ['Alice', 'Charlie', 'Dominique'],\n",
       " 'Charlie': ['Bob'],\n",
       " 'Dominique': ['Alice', 'Bob']}"
      ]
     },
     "execution_count": 177,
     "metadata": {},
     "output_type": "execute_result"
    }
   ],
   "source": [
    "def create_network(list_of_friends):\n",
    "    \n",
    "    dico = {}\n",
    "    i = 0  \n",
    "    while i < len(amis):\n",
    "        if amis[i] not in list(dico) and not i%2:\n",
    "            dico[amis[i]] = [amis[i+1]]\n",
    "        elif amis[i] not in list(dico) and i%2 :\n",
    "            dico[amis[i]] = [amis[i-1]]\n",
    "        elif amis[i] in list(dico) and not i%2:\n",
    "            dico[amis[i]].append(amis[i+1])\n",
    "        else: \n",
    "            dico[amis[i]].append(amis[i-1])\n",
    "        i += 1\n",
    "    return dico\n",
    "\n",
    "amis = list_of_friends('files/Communaute0.csv')\n",
    "create_network(amis)"
   ]
  },
  {
   "cell_type": "code",
   "execution_count": 178,
   "id": "4b48423c",
   "metadata": {},
   "outputs": [
    {
     "data": {
      "text/plain": [
       "['Alice', 'Bob', 'Charlie', 'Dominique']"
      ]
     },
     "execution_count": 178,
     "metadata": {},
     "output_type": "execute_result"
    }
   ],
   "source": [
    "def get_people(network):\n",
    "    \"\"\" Retourne un tableau contenant la liste des personnes du réseau.\"\"\"\n",
    "    \n",
    "    return list(network)\n",
    "\n",
    "dico = create_network(amis)\n",
    "get_people(dico)"
   ]
  },
  {
   "cell_type": "code",
   "execution_count": 179,
   "id": "f55ab526",
   "metadata": {},
   "outputs": [
    {
     "data": {
      "text/plain": [
       "True"
      ]
     },
     "execution_count": 179,
     "metadata": {},
     "output_type": "execute_result"
    }
   ],
   "source": [
    "def are_friends(network, person1, person2):\n",
    "    \n",
    "    i = 0\n",
    "    while i < len(network[person1]):\n",
    "        if network[person1][i] == person2:\n",
    "            return True\n",
    "        i += 1\n",
    "    return False\n",
    "dico = create_network(amis)\n",
    "are_friends(dico,\"Dominique\", \"Bob\")"
   ]
  },
  {
   "cell_type": "code",
   "execution_count": 180,
   "id": "0793247e",
   "metadata": {},
   "outputs": [
    {
     "name": "stdout",
     "output_type": "stream",
     "text": [
      "True\n",
      "True\n",
      "False\n"
     ]
    }
   ],
   "source": [
    "def all_his_friends(network, person, group):\n",
    "    \"\"\"Retourne .\"\"\"\n",
    "    i = 0\n",
    "    while i < len(group):\n",
    "        if are_friends(network,person, group[i]):\n",
    "                i +=1\n",
    "        else:\n",
    "            return False\n",
    "    return True\n",
    "    \n",
    "dico = create_network(amis)\n",
    "print(all_his_friends(dico,\"Dominique\", [\"Alice\", \"Bob\"]))\n",
    "print(all_his_friends(dico,\"Dominique\", [\"Bob\",\"Alice\"]))\n",
    "print(all_his_friends(dico,\"Alice\", [\"Bob\",\"Charlie\"]))"
   ]
  },
  {
   "cell_type": "code",
   "execution_count": 182,
   "id": "c9b3dbb1",
   "metadata": {},
   "outputs": [
    {
     "data": {
      "text/plain": [
       "False"
      ]
     },
     "execution_count": 182,
     "metadata": {},
     "output_type": "execute_result"
    }
   ],
   "source": [
    "def is_a_community(network, group):\n",
    "    \"\"\"Retourne .\"\"\"\n",
    "    person = group[0]\n",
    "    tab = []\n",
    "    i = 1\n",
    "    while i < len(group):\n",
    "        tab.append(group[i])\n",
    "        i += 1\n",
    "    if all_his_friends(network, person, tab):\n",
    "        return True\n",
    "    else:\n",
    "        return False\n",
    "    \n",
    "create_network(amis)\n",
    "is_a_community(dico,[\"Alice\", \"Bob\", \"Charlie\"])"
   ]
  },
  {
   "cell_type": "code",
   "execution_count": 183,
   "id": "550297b9",
   "metadata": {},
   "outputs": [
    {
     "name": "stdout",
     "output_type": "stream",
     "text": [
      "['Alice', 'Bob', 'Dominique']\n",
      "['Charlie', 'Bob']\n",
      "['Charlie']\n",
      "['Bob', 'Alice', 'Charlie', 'Dominique']\n"
     ]
    }
   ],
   "source": [
    "def find_community(network, group):\n",
    "    \"\"\"Retourne .\"\"\"\n",
    "    tab = []\n",
    "    person = group[0]\n",
    "    tab.append(person)\n",
    "    i = 1\n",
    "    while i < len(group):\n",
    "        if are_friends(network, person, group[i]):\n",
    "            tab.append(group[i])\n",
    "        i += 1\n",
    "    return tab\n",
    "dico = create_network(amis)\n",
    "print(find_community(dico,[\"Alice\", \"Bob\", \"Charlie\", \"Dominique\"]))\n",
    "print(find_community(dico,[\"Charlie\", \"Alice\", \"Bob\", \"Dominique\"]))\n",
    "print(find_community(dico,[\"Charlie\", \"Alice\", \"Dominique\"]))\n",
    "print(find_community(dico,[\"Bob\", \"Alice\", \"Charlie\", \"Dominique\"]))"
   ]
  },
  {
   "cell_type": "code",
   "execution_count": 186,
   "id": "abb2163c",
   "metadata": {},
   "outputs": [
    {
     "data": {
      "text/plain": [
       "['Bob', 'Alice', 'Charlie']"
      ]
     },
     "execution_count": 186,
     "metadata": {},
     "output_type": "execute_result"
    }
   ],
   "source": [
    "def order_by_decreasing_popularity(network, group):\n",
    "    \"\"\"Retourne .\"\"\"\n",
    "    tab = []\n",
    "    i = 0\n",
    "    max = 0\n",
    "    while i < len(group):\n",
    "        if max < len(network[group[i]]):\n",
    "            max = len(network[group[i]])\n",
    "        i += 1\n",
    "    \n",
    "    while max != 0 :\n",
    "        j = 0\n",
    "        while j < len(group):\n",
    "            if len(network[group[j]]) == max:\n",
    "                tab.append(group[j])\n",
    "            j += 1\n",
    "        max -= 1\n",
    "    return tab\n",
    "\n",
    "dico = create_network(amis)#[\"Alice\", \"Bob\", \"Charlie\"]\n",
    "order_by_decreasing_popularity(dico, [\"Alice\", \"Bob\", \"Charlie\"])"
   ]
  },
  {
   "cell_type": "code",
   "execution_count": 198,
   "id": "5dd82c85",
   "metadata": {},
   "outputs": [
    {
     "data": {
      "text/plain": [
       "['Bob', 'Alice', 'Dominique', 'Charlie']"
      ]
     },
     "execution_count": 198,
     "metadata": {},
     "output_type": "execute_result"
    }
   ],
   "source": [
    "def find_community_from_person(network, person):\n",
    "    \n",
    "    tab = []\n",
    "    tab.append(person)\n",
    "    a = get_people(network)\n",
    "    b = order_by_decreasing_popularity(network, a)\n",
    "    i = 0\n",
    "    while i < len(b):\n",
    "        if b[i] != person :\n",
    "            tab.append(b[i])\n",
    "        i += 1\n",
    "    return find_community(network, tab)\n",
    "    \n",
    "dico = create_network(amis)\n",
    "find_community_from_person(dico, \"Bob\")"
   ]
  },
  {
   "cell_type": "code",
   "execution_count": 189,
   "id": "5418a247",
   "metadata": {},
   "outputs": [
    {
     "data": {
      "text/plain": [
       "['Alice', 'Bob', 'Dominique']"
      ]
     },
     "execution_count": 189,
     "metadata": {},
     "output_type": "execute_result"
    }
   ],
   "source": [
    "def find_max_community(network):\n",
    "    \n",
    "    person = get_people(network) \n",
    "    return find_community_from_person(network, person[0])\n",
    "dico = create_network(amis)\n",
    "find_max_community(dico)"
   ]
  },
  {
   "cell_type": "code",
   "execution_count": 138,
   "id": "5b0f0e51",
   "metadata": {},
   "outputs": [
    {
     "name": "stdout",
     "output_type": "stream",
     "text": [
      "0.078 secondes\n",
      "0.086 secondes\n"
     ]
    }
   ],
   "source": [
    "from time import time\n",
    "tmp = 0.\n",
    "debut = time()\n",
    "find_community_by_decreasing_popularity(dico)\n",
    "tmp += time() - debut\n",
    "print(round(1000 * tmp, 3), \"secondes\")\n",
    "tmp = 0.\n",
    "debut = time()\n",
    "find_community_from_person(dico, \"Bob\")\n",
    "tmp += time() - debut\n",
    "print(round(1000 * tmp, 3), \"secondes\")"
   ]
  },
  {
   "cell_type": "code",
   "execution_count": 165,
   "id": "62abb8c3",
   "metadata": {},
   "outputs": [
    {
     "name": "stdout",
     "output_type": "stream",
     "text": [
      "Test ok\n"
     ]
    }
   ],
   "source": [
    "from community_detection import *\n",
    "\n",
    "def test_list_of_friends():\n",
    "    assert list_of_friends('files/Communaute0.csv') == ['Alice', 'Bob', 'Bob', 'Charlie', 'Alice', 'Dominique', 'Bob', 'Dominique']\n",
    "    print('Test ok')\n",
    "\n",
    "test_list_of_friends()"
   ]
  },
  {
   "cell_type": "code",
   "execution_count": 197,
   "id": "1104e874",
   "metadata": {},
   "outputs": [
    {
     "name": "stdout",
     "output_type": "stream",
     "text": [
      "Test ok\n",
      "Test ok\n",
      "Test ok\n",
      "Test ok\n",
      "Test ok\n",
      "Test ok\n",
      "Test ok\n",
      "Test ok\n",
      "Test ok\n"
     ]
    }
   ],
   "source": [
    "def test_list_of_friends():\n",
    "    assert list_of_friends('files/Communaute0.csv') == ['Alice', 'Bob', 'Bob', 'Charlie', 'Alice', 'Dominique', 'Bob', 'Dominique']\n",
    "    print('Test ok')\n",
    "    \n",
    "amis = list_of_friends('files/Communaute0.csv')\n",
    "amis1 = list_of_friends('files/Communaute1.csv')   \n",
    "\n",
    "def test_create_network():\n",
    "    assert create_network(amis) == {'Alice': ['Bob', 'Dominique'],\n",
    "                                    'Bob': ['Alice', 'Charlie', 'Dominique'],\n",
    "                                    'Charlie': ['Bob'],\n",
    "                                    'Dominique': ['Alice', 'Bob']}\n",
    "    assert create_network(amis1) == {'Giedrius': ['Mady', 'Illtyd', 'Rufino', 'Glenys', 'Illtyd', 'Björn', 'Louis', 'Vittorio'],\n",
    "     'Mady': ['Giedrius', 'Rufino', 'Idelle', 'Vittore', 'Placide', 'Cloe', 'Vittorio', 'Björn', 'Vittorio', 'Placide', 'Barbra',\n",
    "             'Barbra', 'Vittorio', 'Teodor', 'Jakob','Björn'],\n",
    "     'Kirsa': ['Vittore', 'Vittorio', 'Barbra', 'Jakob', 'Vittore', 'Jakob'],\n",
    "     'Vittore': ['Kirsa', 'Vittorio', 'Barbra', 'Cloe', 'Mady', 'Kirsa', 'Cloe', 'Björn', 'Barbra', 'Louis', 'Barbra', 'Louis'],\n",
    "     'Barbra': ['Faizel', 'Vittorio', 'Vittore', 'Kirsa', 'Vittorio', 'Olavi', 'Faizel', 'Marwa', 'Olavi', 'Mady', 'Rufino',                       'Cloe', 'Mady', 'Rufino', 'Louis', 'Vittore', 'Vittore', 'Vittorio'],\n",
    "     'Faizel': ['Barbra', 'Placide', 'Rufino', 'Barbra', 'Björn', 'Olavi'],\n",
    "     'Vittorio': ['Vittore', 'Barbra', 'Cloe', 'Placide', 'Louis', 'Kirsa', 'Placide', 'Rufino', 'Rufino', 'Olavi', 'Mady',                      'Barbra', 'Mady', 'Cain', 'Louis', 'Mady', 'Giedrius', 'Barbra'],\n",
    "     'Louis': ['Placide', 'Cloe', 'Placide', 'Vittorio', 'Placide', 'Rufino', 'Björn', 'Placide', 'Vittorio', 'Giedrius', 'Björn',\n",
    "              'Rufino', 'Barbra', 'Vittore', 'Vittore', 'Olavi'],\n",
    "     'Placide': ['Louis', 'Vittorio', 'Louis', 'Faizel', 'Louis', 'Mady', 'Vittorio', 'Rufino', 'Jakob', 'Mady', 'Olavi', 'Olavi',               'Louis', 'Cain', 'Rufino', 'Cloe'],\n",
    "     'Cloe': ['Björn', 'Vittorio', 'Vittore', 'Teodor', 'Louis', 'Mady', 'Björn', 'Idelle', 'Björn', 'Glenys', 'Barbra', 'Björn',\n",
    "             'Vittore', 'Björn', 'Idelle', 'Placide'],\n",
    "     'Björn': ['Cloe', 'Olavi', 'Cloe', 'Cloe', 'Idelle', 'Mady', 'Louis', 'Giedrius', 'Louis', 'Cloe', 'Rufino', 'Faizel',                      'Vittore', 'Teodor', 'Cloe', 'Mady'],\n",
    "     'Rufino': ['Mady', 'Olavi', 'Giedrius', 'Illtyd', 'Vittorio', 'Placide', 'Vittorio', 'Teodor', 'Olavi', 'Illtyd', 'Faizel',\n",
    "              'Louis', 'Barbra', 'Björn', 'Barbra', 'Louis', 'Placide', 'Illtyd'],\n",
    "     'Olavi': ['Rufino', 'Teodor', 'Björn', 'Illtyd', 'Rufino', 'Vittorio', 'Illtyd', 'Barbra', 'Placide', 'Placide', 'Barbra',                 'Teodor', 'Faizel', 'Louis'],\n",
    "     'Teodor': ['Cloe', 'Olavi', 'Rufino', 'Björn', 'Olavi', 'Mady'],\n",
    "     'Idelle': ['Mady', 'Cloe', 'Björn', 'Marwa', 'Illtyd', 'Cloe'],\n",
    "     'Illtyd': ['Giedrius', 'Rufino', 'Olavi', 'Giedrius', 'Rufino', 'Olavi', 'Idelle', 'Rufino'],\n",
    "     'Glenys': ['Giedrius', 'Cloe'],\n",
    "     'Jakob': ['Placide', 'Kirsa', 'Kirsa', 'Mady'],\n",
    "     'Marwa': ['Idelle', 'Barbra'],\n",
    "     'Cain': ['Vittorio', 'Placide']}\n",
    "    print('Test ok')\n",
    "\n",
    "dico = create_network(amis)\n",
    "def test_get_people():\n",
    "    assert get_people(dico) == ['Alice', 'Bob', 'Charlie', 'Dominique']\n",
    "    print('Test ok')\n",
    "    \n",
    "def test_are_friends():\n",
    "    assert are_friends(dico, 'Alice', 'Bob') == True\n",
    "    assert are_friends(dico, 'Dominique', 'Bob') == True\n",
    "    assert are_friends(dico, 'Alice', 'Charlie') == False\n",
    "    print('Test ok')\n",
    "    \n",
    "def test_all_his_friends():\n",
    "    assert all_his_friends(dico,\"Dominique\", [\"Alice\", \"Bob\"]) == True\n",
    "    assert all_his_friends(dico,\"Dominique\", [\"Bob\",\"Alice\"]) == True\n",
    "    assert all_his_friends(dico,\"Alice\", [\"Bob\",\"Charlie\"]) == False\n",
    "    print('Test ok')\n",
    "    \n",
    "def test_is_a_community():\n",
    "    assert is_a_community(dico,[\"Alice\", \"Bob\", \"Dominique\"]) == True\n",
    "    assert is_a_community(dico,[\"Alice\", \"Bob\", \"Charlie\"]) == False\n",
    "    print('Test ok')\n",
    "    \n",
    "def test_find_community():\n",
    "    assert find_community(dico,[\"Alice\", \"Bob\", \"Charlie\", \"Dominique\"]) == ['Alice', 'Bob', 'Dominique']\n",
    "    assert find_community(dico,[\"Charlie\", \"Alice\", \"Bob\", \"Dominique\"]) == ['Charlie', 'Bob']\n",
    "    assert find_community(dico,[\"Charlie\", \"Alice\", \"Dominique\"]) == ['Charlie']\n",
    "    print('Test ok')\n",
    "\n",
    "def test_order_by_decreasing_popularity():\n",
    "    assert order_by_decreasing_popularity(dico, [\"Alice\", \"Bob\", \"Charlie\"]) == ['Bob', 'Alice', 'Charlie']\n",
    "    assert order_by_decreasing_popularity(dico, [\"Charlie\", \"Dominique\"]) == ['Dominique', 'Charlie']\n",
    "    print('Test ok')\n",
    "\n",
    "def test_find_community_by_decreasing_popularity():\n",
    "    assert find_community_by_decreasing_popularity(dico) == ['Alice', 'Bob', 'Dominique']\n",
    "    print('Test ok')\n",
    "\n",
    "def test_find_community_from_person():\n",
    "    assert find_community_from_person(dico, \"Alice\") == ['Alice', 'Bob', 'Dominique']\n",
    "    assert find_community_from_person(dico, \"Charlie\") == ['Charlie', 'Bob']\n",
    "    assert find_community_from_person(dico, \"Bob\") == ['Bob', 'Alice', 'Dominique', 'Charlie']\n",
    "    print('Test ok')\n",
    "    \n",
    "def test_find_max_community():\n",
    "    assert find_max_community(dico) == ['Alice', 'Bob', 'Dominique']\n",
    "    print('Test ok')\n",
    "\n",
    "test_list_of_friends()\n",
    "test_create_network()\n",
    "test_get_people()\n",
    "test_are_friends()\n",
    "test_all_his_friends()\n",
    "test_is_a_community()\n",
    "test_find_community()\n",
    "test_order_by_decreasing_popularity()\n",
    "test_find_community_by_decreasing_popularity()\n",
    "\n"
   ]
  },
  {
   "cell_type": "code",
   "execution_count": 207,
   "id": "f2227e51",
   "metadata": {},
   "outputs": [
    {
     "data": {
      "text/plain": [
       "['Alice', 'Bob', 'Dominique']"
      ]
     },
     "execution_count": 207,
     "metadata": {},
     "output_type": "execute_result"
    }
   ],
   "source": [
    "def find_community_by_decreasing_popularity(network):\n",
    "    \"\"\"\n",
    "    La fonction va trier l'ensemble des personnes du réseau selon sa popularité puis retourner la\n",
    "    communauté trouvée en appliquant l'heuristique de construction de communauté maximale expliquée plus haut.\n",
    "    \n",
    "    \"\"\"\n",
    "    a = get_people(network) # On affecte à 'a' le tableau de la liste des personnes du réseau\n",
    "    group = order_by_decreasing_popularity(network, a) # On trie le tableau 'a' selon la popularité\n",
    "    tab = []\n",
    "    tab.append(a[0]) # On ajoute a[0] dans tab\n",
    "    i = 0\n",
    "    while i < len(group):\n",
    "        # On vérifie si tab[0] est amie avec les personnes dans le tableau trié\n",
    "        if are_friends(network, tab[0], group[i]): #Si group[i] est amie avec tab[0] alors on l'ajoute dans tab\n",
    "            tab.append(group[i])\n",
    "        i += 1\n",
    "    return tab\n",
    "\n",
    "amis = list_of_friends('files/Communaute0.csv')\n",
    "dico = create_network(amis)\n",
    "find_community_by_decreasing_popularity(dico)"
   ]
  },
  {
   "cell_type": "code",
   "execution_count": 209,
   "id": "04e68ab9",
   "metadata": {},
   "outputs": [
    {
     "data": {
      "text/plain": [
       "['Alice', 'Bob', 'Dominique']"
      ]
     },
     "execution_count": 209,
     "metadata": {},
     "output_type": "execute_result"
    }
   ],
   "source": [
    "def find_community_by_decreasing_popularity(network):\n",
    "    \n",
    "    a = get_people(network)\n",
    "    tab = find_community(network, a)\n",
    "    group = order_by_decreasing_popularity(network, tab)\n",
    "    \n",
    "    return tab\n",
    "\n",
    "amis = list_of_friends('files/Communaute0.csv')\n",
    "dico = create_network(amis)\n",
    "find_community_by_decreasing_popularity(dico)"
   ]
  }
 ],
 "metadata": {
  "kernelspec": {
   "display_name": "Python 3 (ipykernel)",
   "language": "python",
   "name": "python3"
  },
  "language_info": {
   "codemirror_mode": {
    "name": "ipython",
    "version": 3
   },
   "file_extension": ".py",
   "mimetype": "text/x-python",
   "name": "python",
   "nbconvert_exporter": "python",
   "pygments_lexer": "ipython3",
   "version": "3.9.13"
  }
 },
 "nbformat": 4,
 "nbformat_minor": 5
}
