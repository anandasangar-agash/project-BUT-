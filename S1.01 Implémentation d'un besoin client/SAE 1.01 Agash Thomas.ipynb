{
 "cells": [
  {
   "cell_type": "markdown",
   "metadata": {},
   "source": [
    "<h1> Anandasangar Agash</br> Diril Thomas </h1>"
   ]
  },
  {
   "cell_type": "markdown",
   "metadata": {
    "deletable": false,
    "editable": false,
    "run_control": {
     "frozen": true
    }
   },
   "source": [
    "# <center> Etude de communautés dans un réseau social</center>\n",
    "<center> SAE 1.01 / 2022 - 23 </center>\n",
    "\n"
   ]
  },
  {
   "cell_type": "markdown",
   "metadata": {
    "deletable": false,
    "editable": false,
    "run_control": {
     "frozen": true
    }
   },
   "source": [
    "Cette SAE est à faire en **binôme**.\n",
    "\n",
    "**Calendrier**\n",
    "- Un contrôle de 2h en lien avec le contenu de cette SAE aura lieu le mercredi **26 octobre** 2022.\n",
    "- Le projet est à rendre le vendredi **28 octobre** 2022. Les modalités de rendu vous seront précisées par votre enseignant.\n",
    "\n",
    "**Evaluation**\n",
    "- Le projet comptera pour 40% de la note de SAE 1.01. <BR>\n",
    "    Il sera particulièrement tenu compte de la qualité du code, des **commentaires** et **docstrings**, des fonctions de **tests unitaires** pour les fonctions renvoyant des résultats. <BR><BR>\n",
    "    \n",
    "- Le contrôle compte pour 60% de la note finale."
   ]
  },
  {
   "cell_type": "markdown",
   "metadata": {
    "deletable": false,
    "editable": false,
    "run_control": {
     "frozen": true
    }
   },
   "source": [
    "## <center> Sujet </center>\n",
    "\n",
    "Une *communauté* est un ensemble de personnes développant des interactions dans un réseau social.\n",
    "\n",
    "Dans ce projet, on étudie des communautés modélisées sous différentes formes. Pour cela, on développe des fonctions permettant d'extraire des informations relatives à ces réseaux. "
   ]
  },
  {
   "cell_type": "markdown",
   "metadata": {
    "deletable": false,
    "editable": false,
    "run_control": {
     "frozen": true
    }
   },
   "source": [
    "On modélise, dans un premier temps, les interactions entre personnes dans un tableau `amis` de chaînes de caractères contenant les prénoms des membres du réseau et tel que `amis[2*i]` a des interactions avec `amis[2*i+1]`.\n",
    "\n",
    "On suppose que chaque interaction n'est décrite qu'une seule fois dans le tableau, et qu'une personne n'a pas d'interaction avec elle-même.\n",
    "\n",
    "**Exemple** : "
   ]
  },
  {
   "cell_type": "code",
   "execution_count": 21,
   "metadata": {
    "deletable": false,
    "editable": false
   },
   "outputs": [],
   "source": [
    "amis = [\"Alice\", \"Bob\", \"Alice\", \"Charlie\", \"Bob\", \"Denis\"]"
   ]
  },
  {
   "cell_type": "code",
   "execution_count": 22,
   "metadata": {},
   "outputs": [
    {
     "name": "stdout",
     "output_type": "stream",
     "text": [
      "Alice\n",
      "Charlie\n"
     ]
    }
   ],
   "source": [
    "i = 1\n",
    "print(amis[2*i])\n",
    "print(amis[2*i+1])"
   ]
  },
  {
   "cell_type": "markdown",
   "metadata": {
    "deletable": false,
    "editable": false,
    "run_control": {
     "frozen": true
    }
   },
   "source": [
    "Ici, \n",
    "- Alice a des interactions Bob et Charlie, \n",
    "- Bob a des intractions avec Alice et Denis,\n",
    "- Charlie a des interactions avec Alice et\n",
    "- Denis a des interactions avec Bob."
   ]
  },
  {
   "cell_type": "markdown",
   "metadata": {
    "deletable": false,
    "editable": false,
    "run_control": {
     "frozen": true
    }
   },
   "source": [
    "#### Question préliminaire : Modélisation d'un réseau par un tableau\n",
    "\n",
    "Muriel, Yasmine et Joël sont amis. Yasmine est amie avec Thomas. \n",
    "Joël, Nassim, Andrea et Ali sont amis. Thomas est ami de Daria et Carole. Thierry, Axel et Léo sont amis. Léo est ami de Valentin qui est ami d'Andrea.\n",
    "\n",
    "- Construire un tableau `p_amis` qui modélise ce réseau d'amitié en selon le principe qui vient d'être décrit."
   ]
  },
  {
   "cell_type": "code",
   "execution_count": 23,
   "metadata": {},
   "outputs": [],
   "source": [
    "p_amis = ['Muriel','Yasmine', 'Muriel', 'Joel', \n",
    "          'Yasmine','Joel', 'Yasmine','Thomas',\n",
    "          'Joel','Nassim','Joel','Andrea','Joel','Ali','Nassim','Andrea','Nassim','Ali','Andrea','Ali',\n",
    "          'Thomas','Daria','Thomas','Carole',\n",
    "          'Thierry','Axel','Thierry','Léo','Axel','Léo','Léo','Valentin',\n",
    "          'Valentin','Andrea'] # Création d'un tableau"
   ]
  },
  {
   "cell_type": "markdown",
   "metadata": {
    "deletable": false,
    "editable": false,
    "run_control": {
     "frozen": true
    }
   },
   "source": [
    "#### Question 1 : Nombre d'amis d'une personne\n",
    "\n",
    "- Étant donné un tableau `amis`, écrire une fonction `nb_amis(amis, prenom)` qui retourne le nombre d'amis de `prenom` à partir des données du tableau `amis`. "
   ]
  },
  {
   "cell_type": "code",
   "execution_count": 24,
   "metadata": {},
   "outputs": [
    {
     "name": "stdout",
     "output_type": "stream",
     "text": [
      "Test ok\n"
     ]
    }
   ],
   "source": [
    "def nb_amis(amis,prenom):\n",
    "    \"\"\" \n",
    "    Cette fonction nb_amis prenant en paramètre un tableau amis et un prénom, cette fonctin va retourner le nombre\n",
    "    d'amis de prénom à partir du tableau amis. \n",
    "    \n",
    "    \"\"\"\n",
    "    \n",
    "    i = 0\n",
    "    s = 0\n",
    "    while i < len(amis): # Tant qu'on n'a pas fini de parcourir le tableau on répète les instructions suivantes \n",
    "        if amis[i] == prenom: # Si amis[i] est le même que le prénom qu'on appelle \n",
    "            s += 1 # on ajoute +1 dans le compteur s\n",
    "        \n",
    "        i += 1\n",
    "    return s # on retourne le compteur s dans la fonction\n",
    "\n",
    "def test_nb_amis():\n",
    "    assert nb_amis(p_amis,'Daria')== 1\n",
    "    assert nb_amis(p_amis,'Thomas')== 3\n",
    "    assert nb_amis(p_amis,'Muriel')== 2\n",
    "    print('Test ok')\n",
    "\n",
    "test_nb_amis()"
   ]
  },
  {
   "cell_type": "markdown",
   "metadata": {
    "deletable": false,
    "editable": false,
    "run_control": {
     "frozen": true
    }
   },
   "source": [
    "#### Question 2 : Nombre de membres d'un réseau social \n",
    "\n",
    "- Ecrire une fonction `taille_reseau(amis)` qui à partir d'un tableau `amis`retourne le nombre de personnes distinctes participant à ce réseau social."
   ]
  },
  {
   "cell_type": "code",
   "execution_count": 25,
   "metadata": {},
   "outputs": [
    {
     "name": "stdout",
     "output_type": "stream",
     "text": [
      "Test ok\n"
     ]
    }
   ],
   "source": [
    "def taille_reseau(amis):\n",
    "    \"\"\" \n",
    "    Cette fonction taille_reseau prenant en paramètre un tableau amis, cette fonction va retourner le nombres de \n",
    "    personnes différentes liées à ce réseau social à partir du tableau amis. \n",
    "    \n",
    "    \"\"\"\n",
    "    \n",
    "    tab = []   # On crée un tableau vide\n",
    "    i = 0\n",
    "    while i < len(amis):\n",
    "        if amis[i] not in tab : # Si amis[i] n'est pas dans le tableau qu'on a crée \n",
    "            tab.append(amis[i]) # On ajoute amis[i] dans tab\n",
    "        i += 1\n",
    "    return len(tab) # On retourne la taille du tableau\n",
    "    \n",
    "def test_taille_reseau():\n",
    "    assert taille_reseau(p_amis)== 13\n",
    "    assert taille_reseau(amis)== 4\n",
    "    print(\"Test ok\")\n",
    "\n",
    "test_taille_reseau()   "
   ]
  },
  {
   "cell_type": "markdown",
   "metadata": {
    "deletable": false,
    "editable": false,
    "run_control": {
     "frozen": true
    }
   },
   "source": [
    "#### Question 3 :  Lecture des données d'un réseau à partir d'un fichier\n",
    "On suppose que les données sur un réseau social sont stockées dans un fichier CSV de la manière suivante :\n",
    "```\n",
    "prenom1;prenom2\n",
    "prenom3;prenom4\n",
    "prenom5;prenom6\n",
    "...\n",
    "```\n",
    "Autrement dit, chaque ligne du fichier contient une paire de prénoms séparés par un `';'` correspondant à deux personnes ayant des interactions. \n",
    "\n",
    "**NB** : Quatre fichiers CSV de ce type sont fournis dans le répertoire `files/`, il s'agit des fichiers`Communaute1.csv`, `Communaute2.csv`,`Communaute3.csv` et `Communaute4.csv`. \n",
    "Il est recommandé d'en fabriquer d'autres. \n",
    "\n",
    "- Ecrire une fonction `lecture_reseau(path)` prenant en paramètre un chemin vers un tel fichier CSV et retournant un tableau modélisant les interactions entre les personnes du fichier."
   ]
  },
  {
   "cell_type": "code",
   "execution_count": 26,
   "metadata": {},
   "outputs": [
    {
     "name": "stdout",
     "output_type": "stream",
     "text": [
      "Test ok\n"
     ]
    }
   ],
   "source": [
    "def lecture_reseau(path):\n",
    "    \"\"\" \n",
    "    Cette fonction lecture_reseau prenant en paramètre un chemin de fichier csv, cette fonction va retourner et \n",
    "    modéliser les interactions entre les personnes du fichier.\n",
    "    \n",
    "    \"\"\"\n",
    "    \n",
    "    tab= [] # On crée un tableau vide \n",
    "    f_input= open(path, \"r\") # On ouvre un fichier\n",
    "    \n",
    "    li = f_input.readline().strip() # On lit la première ligne du fichier et on supprime les espaces et \\n\n",
    "    while '' != li: # On lit le fichier tant qu'on n'a pas lu toutes les lignes\n",
    "        t = li.split(\";\") # On supprime les prénoms de la ligne avec ';'\n",
    "        tab += t # On ajoute la ligne dans tab\n",
    "        li = f_input.readline().strip() # On lit la ligne suivante\n",
    "    \n",
    "    f_input.close() # On ferme le fichier\n",
    "    return tab # On retourne le tableau dans la fonction\n",
    "\n",
    "def test_lecture_reseau():\n",
    "    assert lecture_reseau('files/Communaute1.csv')== ['Barbra', 'Cloe', 'Louis', 'Rufino', 'Idelle', 'Mady', 'Björn', 'Giedrius', 'Cloe', 'Glenys', 'Barbra', 'Vittorio', 'Mady', 'Rufino', 'Barbra', 'Marwa', 'Cloe', 'Louis', 'Björn', 'Faizel', 'Giedrius', 'Rufino', 'Mady', 'Vittore', 'Giedrius', 'Louis', 'Cloe', 'Placide', 'Cloe', 'Teodor', 'Kirsa', 'Vittorio', 'Idelle', 'Marwa', 'Placide', 'Rufino', 'Giedrius', 'Illtyd', 'Björn', 'Cloe', 'Björn', 'Rufino', 'Louis', 'Placide', 'Barbra', 'Rufino', 'Louis', 'Vittorio', 'Olavi', 'Placide', 'Rufino', 'Teodor', 'Louis', 'Olavi', 'Faizel', 'Rufino', 'Olavi', 'Vittorio', 'Barbra', 'Louis', 'Placide', 'Vittorio', 'Barbra', 'Kirsa', 'Illtyd', 'Rufino', 'Jakob', 'Mady', 'Barbra', 'Vittore', 'Björn', 'Idelle', 'Cloe', 'Vittore', 'Olavi', 'Teodor', 'Jakob', 'Placide', 'Cain', 'Vittorio', 'Barbra', 'Faizel', 'Giedrius', 'Mady', 'Kirsa', 'Vittore', 'Barbra', 'Mady', 'Jakob', 'Kirsa', 'Björn', 'Mady', 'Björn', 'Teodor', 'Cloe', 'Vittorio', 'Illtyd', 'Olavi', 'Olavi', 'Rufino', 'Giedrius', 'Glenys', 'Rufino', 'Vittorio', 'Björn', 'Olavi', 'Björn', 'Louis', 'Louis', 'Vittore', 'Mady', 'Teodor', 'Vittore', 'Vittorio', 'Faizel', 'Placide', 'Cloe', 'Mady', 'Cain', 'Placide', 'Mady', 'Vittorio', 'Cloe', 'Idelle', 'Mady', 'Placide', 'Giedrius', 'Vittorio', 'Faizel', 'Olavi', 'Björn', 'Vittore', 'Idelle', 'Illtyd', 'Barbra', 'Olavi']\n",
    "    print(\"Test ok\")\n",
    "    \n",
    "test_lecture_reseau()\n"
   ]
  },
  {
   "cell_type": "markdown",
   "metadata": {
    "deletable": false,
    "editable": false,
    "run_control": {
     "frozen": true
    }
   },
   "source": [
    "#### Question 4 : Modélisation d'un réseau par un dictionnaire\n",
    "On préfère pour la suite, utiliser une modélisation du réseau social par un dictionnaire dont où les clés sont les prénoms des personnes du réseau et la valeur associé à une clé est le tableau des amis de la personne indiquée par la clé.\n",
    "\n",
    "- A partir d'un tableau `amis` modélisant les interactions entre personnes d'un réseau, écrire une fonction `dico_reseau(amis)` qui retourne un dictionnaire dont les clés sont les prénoms des membres du réseau et les valeurs le tableau de leurs amis."
   ]
  },
  {
   "cell_type": "code",
   "execution_count": 27,
   "metadata": {},
   "outputs": [
    {
     "name": "stdout",
     "output_type": "stream",
     "text": [
      "Test ok\n"
     ]
    },
    {
     "data": {
      "text/plain": [
       "{'Alice': ['Bob', 'Charlie'],\n",
       " 'Bob': ['Denis', 'Alice'],\n",
       " 'Denis': ['Bob'],\n",
       " 'Charlie': ['Alice']}"
      ]
     },
     "execution_count": 27,
     "metadata": {},
     "output_type": "execute_result"
    }
   ],
   "source": [
    "def dico_reseau(tab):\n",
    "    \"\"\" \n",
    "    Cette fonction dico_reseau prenant en paramètre un tableau tab, va créer un dictionnaire dico, se\n",
    "    dictionnaire contient pour les clés, tout les noms des personnes du réseau, et les valeurs seront un tableau \n",
    "    qui contiendront tout les amis de la personne en clé. \n",
    "    \n",
    "    \"\"\"\n",
    "    \n",
    "    dico= {} # On crée un dictionnaire vide\n",
    "    i = 0\n",
    "    while i < len(tab):\n",
    "        if tab[i] not in list(dico): # Si tab[i] n'est pas dans la liste des clés du dico\n",
    "            dico[tab[i]] = [tab[i+1]] # on ajoute tab[i] en clé et tab[i+1] en valeur\n",
    "        else:                         # Sinon \n",
    "            dico[tab[i]].append(tab[i+1]) # on ajoute juste tab[i+1] dans le tableau des valeur de tab[i]\n",
    "        i += 2 # on passe à l'interaction suivante\n",
    "    \n",
    "    i = len(tab)-1 # On va parcourir le tableau dans l'autre sens\n",
    "    while i >= 0:\n",
    "        if tab[i] not in list(dico): # Si tab[i] n'est pas dans la liste des clés du dico\n",
    "            dico[tab[i]] = [tab[i-1]] # on ajoute tab[i] en clé et tab[i-1] en valeur\n",
    "        else:                         # Sinon \n",
    "            dico[tab[i]].append(tab[i-1])# on ajoute juste tab[i-1] dans le tableau des valeur de tab[i] \n",
    "    \n",
    "        i = i-2 # on passe à l'interaction précédente\n",
    "\n",
    "    return dico # On retourne dico\n",
    "\n",
    "\n",
    "def test_dico_reseau():\n",
    "    assert dico_reseau(amis)=={'Alice': ['Bob', 'Charlie'], 'Bob': ['Denis', 'Alice'], \n",
    "                               'Denis': ['Bob'], 'Charlie': ['Alice']}\n",
    "    assert dico_reseau(p_amis)== {'Muriel': ['Yasmine', 'Joel'], 'Yasmine': ['Joel', 'Thomas', 'Muriel'], 'Joel': ['Nassim', 'Andrea', 'Ali', 'Yasmine', 'Muriel'], \n",
    "        'Nassim': ['Andrea', 'Ali', 'Joel'], 'Andrea': ['Ali', 'Valentin', 'Nassim', 'Joel'], 'Thomas': ['Daria', 'Carole', 'Yasmine'], \n",
    "        'Thierry': ['Axel', 'Léo'], 'Axel': ['Léo', 'Thierry'], 'Léo': ['Valentin', 'Axel', 'Thierry'], 'Valentin': ['Andrea', 'Léo'], 'Carole': ['Thomas'], \n",
    "        'Daria': ['Thomas'], 'Ali': ['Andrea', 'Nassim', 'Joel']}\n",
    "   \n",
    "    assert dico_reseau(lecture_reseau(\"files/Communaute1.csv\"))=={'Barbra': ['Cloe', 'Vittorio', 'Marwa', 'Rufino', 'Louis', 'Kirsa', 'Vittore', 'Faizel', 'Mady', 'Olavi'], \n",
    "            'Louis': ['Rufino', 'Placide', 'Vittorio', 'Olavi', 'Vittore', 'Björn', 'Barbra', 'Giedrius', 'Cloe'],'Idelle': ['Mady', 'Marwa', 'Illtyd', 'Cloe', 'Björn'], \n",
    "            'Björn': ['Giedrius', 'Faizel', 'Cloe', 'Rufino', 'Idelle', 'Mady', 'Teodor', 'Olavi', 'Louis', 'Vittore'], 'Cloe': ['Glenys', 'Louis', 'Placide', 'Teodor', 'Vittore', 'Vittorio', 'Mady', 'Idelle', 'Björn', 'Barbra'], \n",
    "            'Mady': ['Rufino', 'Vittore', 'Teodor', 'Vittorio', 'Placide', 'Cloe', 'Björn', 'Barbra', 'Giedrius', 'Jakob', 'Idelle'], 'Giedrius': ['Rufino', 'Louis', 'Illtyd', 'Mady', 'Glenys', 'Vittorio', 'Björn'], 'Kirsa': ['Vittorio', 'Vittore', 'Jakob', 'Barbra'], \n",
    "            'Placide': ['Rufino', 'Vittorio', 'Mady', 'Cain', 'Faizel', 'Jakob', 'Olavi', 'Louis', 'Cloe'], 'Olavi': ['Placide', 'Vittorio', 'Teodor', 'Rufino', 'Barbra', 'Faizel', 'Björn', 'Illtyd', 'Louis'], \n",
    "            'Rufino': ['Teodor', 'Vittorio', 'Olavi', 'Illtyd', 'Faizel', 'Barbra', 'Björn', 'Placide', 'Giedrius', 'Mady', 'Louis'], 'Faizel': ['Rufino', 'Placide', 'Olavi', 'Barbra', 'Björn'], 'Illtyd': ['Rufino', 'Olavi', 'Idelle', 'Giedrius'], \n",
    "            'Jakob': ['Mady', 'Placide', 'Kirsa'], 'Cain': ['Vittorio', 'Placide'], 'Vittore': ['Vittorio', 'Björn', 'Louis', 'Kirsa', 'Cloe', 'Barbra', 'Mady'], 'Vittorio': ['Giedrius', 'Mady', 'Vittore', 'Rufino', 'Cloe', 'Cain', 'Placide', 'Olavi', 'Louis', 'Kirsa', 'Barbra'], \n",
    "            'Teodor': ['Mady', 'Björn', 'Olavi', 'Rufino', 'Cloe'],'Glenys': ['Giedrius', 'Cloe'], 'Marwa': ['Idelle', 'Barbra']}\n",
    "    print(\"Test ok\")\n",
    "                                                                                                                     \n",
    "test_dico_reseau()\n",
    "dico_reseau(amis)                                                                                                   "
   ]
  },
  {
   "cell_type": "markdown",
   "metadata": {
    "deletable": false,
    "editable": false,
    "run_control": {
     "frozen": true
    }
   },
   "source": [
    "#### Question 5 : Nombre d'amis des personnes les plus populaires\n",
    "\n",
    "- A partir d'un dictionnaire `dico_reseau` modélisant les interactions dans un réseau d'amis, écrire une fonction `nb_amis_plus_pop (dico_reseau)` qui retourne le nombre d'amis des personnes les plus populaires du réseau."
   ]
  },
  {
   "cell_type": "code",
   "execution_count": 28,
   "metadata": {},
   "outputs": [
    {
     "name": "stdout",
     "output_type": "stream",
     "text": [
      "Test ok\n"
     ]
    }
   ],
   "source": [
    "def nb_amis_plus_pop(amis):\n",
    "    \"\"\" \n",
    "    Cette fonction nb_amis_plus_pop prenant en paramètre un tableau amis, cette fonction va retourner le \n",
    "    le nombre d'amis des personnes les plus populaires du réseau. \n",
    "    \n",
    "    \"\"\"\n",
    "    \n",
    "    t = dico_reseau(amis) # On affecte le dictionnaire à la variable t.\n",
    "    a = list(t.values()) # On affecte toutes les valeurs du dictionnaire à la variable a.\n",
    "    i = 0\n",
    "    max = 1 # Création d'une variable max.\n",
    "    while i < len(a):\n",
    "        if len(a[i])> max: # Si la taille du tableau de la valeur a[i] est supérieure à max.\n",
    "            max = len(a[i]) # On affecte à la variable max la taille du tableau de la valeur a[i] \n",
    "        i += 1\n",
    "    return max # On retourne max\n",
    "\n",
    "def test_nb_amis_plus_pop():\n",
    "    assert nb_amis_plus_pop(amis)== 2\n",
    "    assert nb_amis_plus_pop(p_amis)== 5\n",
    "    assert nb_amis_plus_pop(lecture_reseau(\"files/Communaute1.csv\"))== 11\n",
    "    print(\"Test ok\")\n",
    "\n",
    "test_nb_amis_plus_pop()    "
   ]
  },
  {
   "cell_type": "markdown",
   "metadata": {
    "deletable": false,
    "editable": false,
    "run_control": {
     "frozen": true
    }
   },
   "source": [
    "#### Question 6 : Personnes les plus populaires\n",
    "\n",
    "- A partir d'un dictionnaire `dico_reseau` modélisant les interactions dans un réseau d'amis, écrire une fonction `les_plus_pop (dico_reseau)` qui retourne un tableau contenant les prénoms de toutes les personnes les plus populaires du réseau."
   ]
  },
  {
   "cell_type": "code",
   "execution_count": 29,
   "metadata": {},
   "outputs": [
    {
     "name": "stdout",
     "output_type": "stream",
     "text": [
      "Test ok\n"
     ]
    }
   ],
   "source": [
    "def les_plus_pop(amis):\n",
    "    \"\"\"\n",
    "    Cette fonction les_plus_pop prenant en paramètre un tableau amis, cette fonction va retourner un tableau qui \n",
    "    contient les prénoms des personnes les plus populaires du réseau.\n",
    "    \n",
    "    \"\"\"\n",
    "    \n",
    "    tab= [] # On crée un tableau vide\n",
    "    \n",
    "    t = dico_reseau(amis) # On affecte le dictionnaire à la variable t.\n",
    "    a = list(t.values()) # On affecte la liste des valeurs du dictionnaire à la variable a.\n",
    "    b = list(t) # On affecte la liste des clés du dictionnaire à la variable b.\n",
    "    i = 0\n",
    "    max = nb_amis_plus_pop(amis) # On appelle la fonction nb_amis_plus_pop pour affecter à max le nombre d'amis des personnes les plus populaires du réseau.\n",
    "    while i < len(a):\n",
    "        if len(a[i]) == max: # Si la taille du tableau de la valeur a[i] est égale à max\n",
    "            tab.append(b[i]) # On ajoute dans tab b[i]\n",
    "        i += 1\n",
    "    return tab # On retourne tab\n",
    "\n",
    "def test_les_pop():\n",
    "    assert les_plus_pop(amis)== ['Alice', 'Bob']\n",
    "    assert les_plus_pop(p_amis)== ['Joel']\n",
    "    assert les_plus_pop(lecture_reseau(\"files/Communaute1.csv\"))== ['Mady', 'Rufino', 'Vittorio']\n",
    "    print(\"Test ok\")\n",
    "\n",
    "test_les_pop()"
   ]
  }
 ],
 "metadata": {
  "kernelspec": {
   "display_name": "Python 3",
   "language": "python",
   "name": "python3"
  },
  "language_info": {
   "codemirror_mode": {
    "name": "ipython",
    "version": 3
   },
   "file_extension": ".py",
   "mimetype": "text/x-python",
   "name": "python",
   "nbconvert_exporter": "python",
   "pygments_lexer": "ipython3",
   "version": "3.9.6"
  },
  "latex_envs": {
   "LaTeX_envs_menu_present": true,
   "autoclose": false,
   "autocomplete": true,
   "bibliofile": "biblio.bib",
   "cite_by": "apalike",
   "current_citInitial": 1,
   "eqLabelWithNumbers": true,
   "eqNumInitial": 1,
   "hotkeys": {
    "equation": "Ctrl-E",
    "itemize": "Ctrl-I"
   },
   "labels_anchors": false,
   "latex_user_defs": false,
   "report_style_numbering": false,
   "user_envs_cfg": false
  }
 },
 "nbformat": 4,
 "nbformat_minor": 2
}
